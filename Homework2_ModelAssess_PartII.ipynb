{
 "cells": [
  {
   "cell_type": "markdown",
   "metadata": {},
   "source": [
    "# Data Mining Assignment 2 Part 2\n",
    "# Model Assessment \n",
    "# Taiwan credit card default dataset\n",
    "(Source: Taken from https://archive.ics.uci.edu/ml/datasets/default+of+credit+card+clients)!"
   ]
  },
  {
   "cell_type": "markdown",
   "metadata": {},
   "source": [
    "# Train/Test Split first"
   ]
  },
  {
   "cell_type": "code",
   "execution_count": 298,
   "metadata": {},
   "outputs": [
    {
     "name": "stdout",
     "output_type": "stream",
     "text": [
      "Dimension of data is (30000, 22)\n"
     ]
    },
    {
     "data": {
      "text/html": [
       "<div>\n",
       "<style scoped>\n",
       "    .dataframe tbody tr th:only-of-type {\n",
       "        vertical-align: middle;\n",
       "    }\n",
       "\n",
       "    .dataframe tbody tr th {\n",
       "        vertical-align: top;\n",
       "    }\n",
       "\n",
       "    .dataframe thead th {\n",
       "        text-align: right;\n",
       "    }\n",
       "</style>\n",
       "<table border=\"1\" class=\"dataframe\">\n",
       "  <thead>\n",
       "    <tr style=\"text-align: right;\">\n",
       "      <th></th>\n",
       "      <th>LIMIT_BAL</th>\n",
       "      <th>AGE</th>\n",
       "      <th>Sept05_BillAmt</th>\n",
       "      <th>Sept05_PayAmt</th>\n",
       "      <th>Aug05_PayAmt</th>\n",
       "      <th>Jul05_PayAmt</th>\n",
       "      <th>Jun05_PayAmt</th>\n",
       "      <th>May05_PayAmt</th>\n",
       "      <th>Apr05_PayAmt</th>\n",
       "      <th>avrg_delay</th>\n",
       "      <th>...</th>\n",
       "      <th>Aug_Pay_Ratio</th>\n",
       "      <th>Missed_payments</th>\n",
       "      <th>SEX_M</th>\n",
       "      <th>EDUCATION_Grad school</th>\n",
       "      <th>EDUCATION_High school</th>\n",
       "      <th>EDUCATION_University</th>\n",
       "      <th>MARRIAGE_Divorced</th>\n",
       "      <th>MARRIAGE_Married</th>\n",
       "      <th>MARRIAGE_Single</th>\n",
       "      <th>default payment next month</th>\n",
       "    </tr>\n",
       "    <tr>\n",
       "      <th>ID</th>\n",
       "      <th></th>\n",
       "      <th></th>\n",
       "      <th></th>\n",
       "      <th></th>\n",
       "      <th></th>\n",
       "      <th></th>\n",
       "      <th></th>\n",
       "      <th></th>\n",
       "      <th></th>\n",
       "      <th></th>\n",
       "      <th></th>\n",
       "      <th></th>\n",
       "      <th></th>\n",
       "      <th></th>\n",
       "      <th></th>\n",
       "      <th></th>\n",
       "      <th></th>\n",
       "      <th></th>\n",
       "      <th></th>\n",
       "      <th></th>\n",
       "      <th></th>\n",
       "    </tr>\n",
       "  </thead>\n",
       "  <tbody>\n",
       "    <tr>\n",
       "      <th>1</th>\n",
       "      <td>20000</td>\n",
       "      <td>24</td>\n",
       "      <td>3913</td>\n",
       "      <td>0</td>\n",
       "      <td>689</td>\n",
       "      <td>0</td>\n",
       "      <td>0</td>\n",
       "      <td>0</td>\n",
       "      <td>0</td>\n",
       "      <td>-0.333333</td>\n",
       "      <td>...</td>\n",
       "      <td>0.000000</td>\n",
       "      <td>5</td>\n",
       "      <td>0</td>\n",
       "      <td>0</td>\n",
       "      <td>0</td>\n",
       "      <td>1</td>\n",
       "      <td>0</td>\n",
       "      <td>1</td>\n",
       "      <td>0</td>\n",
       "      <td>1</td>\n",
       "    </tr>\n",
       "    <tr>\n",
       "      <th>2</th>\n",
       "      <td>120000</td>\n",
       "      <td>26</td>\n",
       "      <td>2682</td>\n",
       "      <td>0</td>\n",
       "      <td>1000</td>\n",
       "      <td>1000</td>\n",
       "      <td>1000</td>\n",
       "      <td>0</td>\n",
       "      <td>2000</td>\n",
       "      <td>0.500000</td>\n",
       "      <td>...</td>\n",
       "      <td>0.000000</td>\n",
       "      <td>2</td>\n",
       "      <td>0</td>\n",
       "      <td>0</td>\n",
       "      <td>0</td>\n",
       "      <td>1</td>\n",
       "      <td>0</td>\n",
       "      <td>0</td>\n",
       "      <td>1</td>\n",
       "      <td>1</td>\n",
       "    </tr>\n",
       "    <tr>\n",
       "      <th>3</th>\n",
       "      <td>90000</td>\n",
       "      <td>34</td>\n",
       "      <td>29239</td>\n",
       "      <td>1518</td>\n",
       "      <td>1500</td>\n",
       "      <td>1000</td>\n",
       "      <td>1000</td>\n",
       "      <td>1000</td>\n",
       "      <td>5000</td>\n",
       "      <td>0.000000</td>\n",
       "      <td>...</td>\n",
       "      <td>0.108220</td>\n",
       "      <td>0</td>\n",
       "      <td>0</td>\n",
       "      <td>0</td>\n",
       "      <td>0</td>\n",
       "      <td>1</td>\n",
       "      <td>0</td>\n",
       "      <td>0</td>\n",
       "      <td>1</td>\n",
       "      <td>0</td>\n",
       "    </tr>\n",
       "    <tr>\n",
       "      <th>4</th>\n",
       "      <td>50000</td>\n",
       "      <td>37</td>\n",
       "      <td>46990</td>\n",
       "      <td>2000</td>\n",
       "      <td>2019</td>\n",
       "      <td>1200</td>\n",
       "      <td>1100</td>\n",
       "      <td>1069</td>\n",
       "      <td>1000</td>\n",
       "      <td>0.000000</td>\n",
       "      <td>...</td>\n",
       "      <td>0.041465</td>\n",
       "      <td>0</td>\n",
       "      <td>0</td>\n",
       "      <td>0</td>\n",
       "      <td>0</td>\n",
       "      <td>1</td>\n",
       "      <td>0</td>\n",
       "      <td>1</td>\n",
       "      <td>0</td>\n",
       "      <td>0</td>\n",
       "    </tr>\n",
       "    <tr>\n",
       "      <th>5</th>\n",
       "      <td>50000</td>\n",
       "      <td>57</td>\n",
       "      <td>8617</td>\n",
       "      <td>2000</td>\n",
       "      <td>36681</td>\n",
       "      <td>10000</td>\n",
       "      <td>9000</td>\n",
       "      <td>689</td>\n",
       "      <td>679</td>\n",
       "      <td>-0.333333</td>\n",
       "      <td>...</td>\n",
       "      <td>0.352734</td>\n",
       "      <td>0</td>\n",
       "      <td>1</td>\n",
       "      <td>0</td>\n",
       "      <td>0</td>\n",
       "      <td>1</td>\n",
       "      <td>0</td>\n",
       "      <td>1</td>\n",
       "      <td>0</td>\n",
       "      <td>0</td>\n",
       "    </tr>\n",
       "  </tbody>\n",
       "</table>\n",
       "<p>5 rows × 22 columns</p>\n",
       "</div>"
      ],
      "text/plain": [
       "    LIMIT_BAL  AGE  Sept05_BillAmt  Sept05_PayAmt  Aug05_PayAmt  Jul05_PayAmt  \\\n",
       "ID                                                                              \n",
       "1       20000   24            3913              0           689             0   \n",
       "2      120000   26            2682              0          1000          1000   \n",
       "3       90000   34           29239           1518          1500          1000   \n",
       "4       50000   37           46990           2000          2019          1200   \n",
       "5       50000   57            8617           2000         36681         10000   \n",
       "\n",
       "    Jun05_PayAmt  May05_PayAmt  Apr05_PayAmt  avrg_delay  ...  Aug_Pay_Ratio  \\\n",
       "ID                                                        ...                  \n",
       "1              0             0             0   -0.333333  ...       0.000000   \n",
       "2           1000             0          2000    0.500000  ...       0.000000   \n",
       "3           1000          1000          5000    0.000000  ...       0.108220   \n",
       "4           1100          1069          1000    0.000000  ...       0.041465   \n",
       "5           9000           689           679   -0.333333  ...       0.352734   \n",
       "\n",
       "    Missed_payments  SEX_M  EDUCATION_Grad school  EDUCATION_High school  \\\n",
       "ID                                                                         \n",
       "1                 5      0                      0                      0   \n",
       "2                 2      0                      0                      0   \n",
       "3                 0      0                      0                      0   \n",
       "4                 0      0                      0                      0   \n",
       "5                 0      1                      0                      0   \n",
       "\n",
       "    EDUCATION_University  MARRIAGE_Divorced  MARRIAGE_Married  \\\n",
       "ID                                                              \n",
       "1                      1                  0                 1   \n",
       "2                      1                  0                 0   \n",
       "3                      1                  0                 0   \n",
       "4                      1                  0                 1   \n",
       "5                      1                  0                 1   \n",
       "\n",
       "    MARRIAGE_Single  default payment next month  \n",
       "ID                                               \n",
       "1                 0                           1  \n",
       "2                 1                           1  \n",
       "3                 1                           0  \n",
       "4                 0                           0  \n",
       "5                 0                           0  \n",
       "\n",
       "[5 rows x 22 columns]"
      ]
     },
     "execution_count": 298,
     "metadata": {},
     "output_type": "execute_result"
    }
   ],
   "source": [
    "import numpy as np\n",
    "import pandas as pd\n",
    "import bokeh \n",
    "import os\n",
    "\n",
    "##Read csv file into dataframe from local directory\n",
    "fname1=(os.path.abspath('Default_new_data.xls'))\n",
    "df=pd.read_excel(fname1,header = 0, index_col=0, na_values=['na','-'])\n",
    "\n",
    "print('Dimension of data is', df.shape)\n",
    "df.head(5)"
   ]
  },
  {
   "cell_type": "code",
   "execution_count": 299,
   "metadata": {},
   "outputs": [
    {
     "name": "stdout",
     "output_type": "stream",
     "text": [
      "Shape of train, (21000, 22)\n",
      "Shape of test, (9000, 22)\n",
      "Proportion of '1's in train : 0.22\n",
      "Proportion of '1's in test : 0.22\n"
     ]
    }
   ],
   "source": [
    "from sklearn.model_selection import train_test_split\n",
    "\n",
    "train0,test0 = train_test_split(df, test_size=0.3, random_state = 33113, stratify = df['default payment next month'] )\n",
    "\n",
    "#Inspect the shapes\n",
    "print(\"Shape of train,\", train0.shape)\n",
    "print(\"Shape of test,\", test0.shape)\n",
    "\n",
    "#Check that stratify by class works\n",
    "print(\"Proportion of '1's in train : {:.2f}\".format(train0['default payment next month'].value_counts()[1]/train0['default payment next month'].value_counts().sum()))\n",
    "print(\"Proportion of '1's in test : {:.2f}\".format(test0['default payment next month'].value_counts()[1]/test0['default payment next month'].value_counts().sum()))"
   ]
  },
  {
   "cell_type": "markdown",
   "metadata": {},
   "source": [
    "# Address class imbalance by down sampling"
   ]
  },
  {
   "cell_type": "code",
   "execution_count": 300,
   "metadata": {},
   "outputs": [
    {
     "name": "stdout",
     "output_type": "stream",
     "text": [
      "Shape of defaulters in training dataset (4645, 22)\n"
     ]
    },
    {
     "data": {
      "text/plain": [
       "(9290, 22)"
      ]
     },
     "execution_count": 300,
     "metadata": {},
     "output_type": "execute_result"
    }
   ],
   "source": [
    "#Separate out the class labels\n",
    "#Keep all data with defaulters\n",
    "dsdefault_df = train0.loc[train0['default payment next month'] == 1]\n",
    "print(\"Shape of defaulters in training dataset\", dsdefault_df.shape)\n",
    "\n",
    "#Randomly sample 4645 observations from the no default class.\n",
    "dsnodefault_df=train0.loc[train0['default payment next month']==0].sample(n=4645, random_state=33113)\n",
    "\n",
    "dstrain = pd.concat([dsdefault_df,dsnodefault_df])\n",
    "dstrain.shape"
   ]
  },
  {
   "cell_type": "markdown",
   "metadata": {},
   "source": [
    "# Perform Train/Test split on the dataset for train, test and validation"
   ]
  },
  {
   "cell_type": "code",
   "execution_count": 301,
   "metadata": {},
   "outputs": [
    {
     "data": {
      "text/html": [
       "<div>\n",
       "<style scoped>\n",
       "    .dataframe tbody tr th:only-of-type {\n",
       "        vertical-align: middle;\n",
       "    }\n",
       "\n",
       "    .dataframe tbody tr th {\n",
       "        vertical-align: top;\n",
       "    }\n",
       "\n",
       "    .dataframe thead th {\n",
       "        text-align: right;\n",
       "    }\n",
       "</style>\n",
       "<table border=\"1\" class=\"dataframe\">\n",
       "  <thead>\n",
       "    <tr style=\"text-align: right;\">\n",
       "      <th></th>\n",
       "      <th>LIMIT_BAL</th>\n",
       "      <th>AGE</th>\n",
       "      <th>Sept05_BillAmt</th>\n",
       "      <th>Sept05_PayAmt</th>\n",
       "      <th>Aug05_PayAmt</th>\n",
       "      <th>Jul05_PayAmt</th>\n",
       "      <th>Jun05_PayAmt</th>\n",
       "      <th>May05_PayAmt</th>\n",
       "      <th>Apr05_PayAmt</th>\n",
       "      <th>avrg_delay</th>\n",
       "      <th>...</th>\n",
       "      <th>Aug_Pay_Ratio</th>\n",
       "      <th>Missed_payments</th>\n",
       "      <th>SEX_M</th>\n",
       "      <th>EDUCATION_Grad school</th>\n",
       "      <th>EDUCATION_High school</th>\n",
       "      <th>EDUCATION_University</th>\n",
       "      <th>MARRIAGE_Divorced</th>\n",
       "      <th>MARRIAGE_Married</th>\n",
       "      <th>MARRIAGE_Single</th>\n",
       "      <th>default payment next month</th>\n",
       "    </tr>\n",
       "  </thead>\n",
       "  <tbody>\n",
       "    <tr>\n",
       "      <th>0</th>\n",
       "      <td>150000</td>\n",
       "      <td>42</td>\n",
       "      <td>161569</td>\n",
       "      <td>0</td>\n",
       "      <td>0</td>\n",
       "      <td>0</td>\n",
       "      <td>0</td>\n",
       "      <td>0</td>\n",
       "      <td>15</td>\n",
       "      <td>5.500000</td>\n",
       "      <td>...</td>\n",
       "      <td>0.000000</td>\n",
       "      <td>5</td>\n",
       "      <td>1</td>\n",
       "      <td>1</td>\n",
       "      <td>0</td>\n",
       "      <td>0</td>\n",
       "      <td>0</td>\n",
       "      <td>1</td>\n",
       "      <td>0</td>\n",
       "      <td>1</td>\n",
       "    </tr>\n",
       "    <tr>\n",
       "      <th>1</th>\n",
       "      <td>320000</td>\n",
       "      <td>33</td>\n",
       "      <td>1877</td>\n",
       "      <td>4114</td>\n",
       "      <td>4687</td>\n",
       "      <td>3985</td>\n",
       "      <td>22595</td>\n",
       "      <td>4117</td>\n",
       "      <td>5838</td>\n",
       "      <td>-2.000000</td>\n",
       "      <td>...</td>\n",
       "      <td>1.004885</td>\n",
       "      <td>0</td>\n",
       "      <td>1</td>\n",
       "      <td>1</td>\n",
       "      <td>0</td>\n",
       "      <td>0</td>\n",
       "      <td>0</td>\n",
       "      <td>1</td>\n",
       "      <td>0</td>\n",
       "      <td>0</td>\n",
       "    </tr>\n",
       "    <tr>\n",
       "      <th>2</th>\n",
       "      <td>50000</td>\n",
       "      <td>29</td>\n",
       "      <td>9527</td>\n",
       "      <td>2000</td>\n",
       "      <td>1092</td>\n",
       "      <td>880</td>\n",
       "      <td>990</td>\n",
       "      <td>780</td>\n",
       "      <td>0</td>\n",
       "      <td>-0.500000</td>\n",
       "      <td>...</td>\n",
       "      <td>0.201877</td>\n",
       "      <td>1</td>\n",
       "      <td>1</td>\n",
       "      <td>0</td>\n",
       "      <td>1</td>\n",
       "      <td>0</td>\n",
       "      <td>0</td>\n",
       "      <td>1</td>\n",
       "      <td>0</td>\n",
       "      <td>0</td>\n",
       "    </tr>\n",
       "    <tr>\n",
       "      <th>3</th>\n",
       "      <td>30000</td>\n",
       "      <td>22</td>\n",
       "      <td>29676</td>\n",
       "      <td>0</td>\n",
       "      <td>1493</td>\n",
       "      <td>803</td>\n",
       "      <td>420</td>\n",
       "      <td>0</td>\n",
       "      <td>0</td>\n",
       "      <td>0.500000</td>\n",
       "      <td>...</td>\n",
       "      <td>0.000000</td>\n",
       "      <td>3</td>\n",
       "      <td>0</td>\n",
       "      <td>0</td>\n",
       "      <td>0</td>\n",
       "      <td>1</td>\n",
       "      <td>0</td>\n",
       "      <td>0</td>\n",
       "      <td>1</td>\n",
       "      <td>0</td>\n",
       "    </tr>\n",
       "    <tr>\n",
       "      <th>4</th>\n",
       "      <td>130000</td>\n",
       "      <td>49</td>\n",
       "      <td>24008</td>\n",
       "      <td>3000</td>\n",
       "      <td>5000</td>\n",
       "      <td>2822</td>\n",
       "      <td>5000</td>\n",
       "      <td>0</td>\n",
       "      <td>6500</td>\n",
       "      <td>-0.333333</td>\n",
       "      <td>...</td>\n",
       "      <td>0.141303</td>\n",
       "      <td>1</td>\n",
       "      <td>1</td>\n",
       "      <td>0</td>\n",
       "      <td>0</td>\n",
       "      <td>1</td>\n",
       "      <td>0</td>\n",
       "      <td>1</td>\n",
       "      <td>0</td>\n",
       "      <td>0</td>\n",
       "    </tr>\n",
       "  </tbody>\n",
       "</table>\n",
       "<p>5 rows × 22 columns</p>\n",
       "</div>"
      ],
      "text/plain": [
       "   LIMIT_BAL  AGE  Sept05_BillAmt  Sept05_PayAmt  Aug05_PayAmt  Jul05_PayAmt  \\\n",
       "0     150000   42          161569              0             0             0   \n",
       "1     320000   33            1877           4114          4687          3985   \n",
       "2      50000   29            9527           2000          1092           880   \n",
       "3      30000   22           29676              0          1493           803   \n",
       "4     130000   49           24008           3000          5000          2822   \n",
       "\n",
       "   Jun05_PayAmt  May05_PayAmt  Apr05_PayAmt  avrg_delay  ...  Aug_Pay_Ratio  \\\n",
       "0             0             0            15    5.500000  ...       0.000000   \n",
       "1         22595          4117          5838   -2.000000  ...       1.004885   \n",
       "2           990           780             0   -0.500000  ...       0.201877   \n",
       "3           420             0             0    0.500000  ...       0.000000   \n",
       "4          5000             0          6500   -0.333333  ...       0.141303   \n",
       "\n",
       "   Missed_payments  SEX_M  EDUCATION_Grad school  EDUCATION_High school  \\\n",
       "0                5      1                      1                      0   \n",
       "1                0      1                      1                      0   \n",
       "2                1      1                      0                      1   \n",
       "3                3      0                      0                      0   \n",
       "4                1      1                      0                      0   \n",
       "\n",
       "   EDUCATION_University  MARRIAGE_Divorced  MARRIAGE_Married  MARRIAGE_Single  \\\n",
       "0                     0                  0                 1                0   \n",
       "1                     0                  0                 1                0   \n",
       "2                     0                  0                 1                0   \n",
       "3                     1                  0                 0                1   \n",
       "4                     1                  0                 1                0   \n",
       "\n",
       "   default payment next month  \n",
       "0                           1  \n",
       "1                           0  \n",
       "2                           0  \n",
       "3                           0  \n",
       "4                           0  \n",
       "\n",
       "[5 rows x 22 columns]"
      ]
     },
     "execution_count": 301,
     "metadata": {},
     "output_type": "execute_result"
    }
   ],
   "source": [
    "from sklearn.utils import shuffle\n",
    "\n",
    "#shuffle the dataframe to make sure the training data is randomly ordered \n",
    "dstrain = shuffle(dstrain, random_state=33113)\n",
    "\n",
    "dstrain.reset_index(inplace=True)\n",
    "dstrain.drop(['ID'], axis=1 ,inplace= True)\n",
    "\n",
    "X_train=dstrain.iloc[:,:-1]\n",
    "y_train=dstrain['default payment next month']\n",
    "\n",
    "test=test0.reset_index(inplace=False)\n",
    "test.drop(['ID'], axis=1 ,inplace= True)\n",
    "\n",
    "test.head(5)"
   ]
  },
  {
   "cell_type": "markdown",
   "metadata": {},
   "source": [
    "# Apply preprocessing techniques to features"
   ]
  },
  {
   "cell_type": "code",
   "execution_count": 5,
   "metadata": {},
   "outputs": [],
   "source": [
    "#List of features \n",
    "features_list=list(X_train.columns)\n",
    "\n",
    "#numerical features\n",
    "nf = features_list[0:13]\n",
    "#categorical features\n",
    "cf = features_list[13:]"
   ]
  },
  {
   "cell_type": "code",
   "execution_count": 6,
   "metadata": {},
   "outputs": [],
   "source": [
    "from sklearn.compose import ColumnTransformer\n",
    "from sklearn.pipeline import Pipeline\n",
    "from sklearn.impute import SimpleImputer\n",
    "from sklearn.preprocessing import StandardScaler, OneHotEncoder\n",
    "from sklearn.linear_model import LogisticRegression\n",
    "\n",
    "numeric_transformer = Pipeline(steps=[('scaler', StandardScaler())])\n",
    "categorical_transformer = Pipeline(steps=[('',None)])\n",
    "\n",
    "preprocessor = ColumnTransformer(\n",
    "    transformers=[\n",
    "        ('num', numeric_transformer, nf),\n",
    "        ('cat', categorical_transformer, cf)], remainder = 'passthrough')\n"
   ]
  },
  {
   "cell_type": "markdown",
   "metadata": {},
   "source": [
    "# Use RFE to perform feature selection to check out the results"
   ]
  },
  {
   "cell_type": "code",
   "execution_count": 7,
   "metadata": {},
   "outputs": [],
   "source": [
    "from sklearn.feature_selection import RFE, RFECV# feature extraction\n",
    "\n",
    "normalized_Xtrain = preprocessor.fit_transform(X_train)\n",
    "\n",
    "logreg=LogisticRegression(penalty = 'l1', random_state=33113, solver='liblinear', max_iter=500)\n",
    "\n",
    "rfecv = RFECV(estimator=logreg, cv=5, scoring='recall')# fit on train set\n",
    "feature_eliminator=rfecv.fit(normalized_Xtrain, y_train)# transform train set"
   ]
  },
  {
   "cell_type": "code",
   "execution_count": 8,
   "metadata": {},
   "outputs": [
    {
     "data": {
      "text/plain": [
       "array([ 8, 11, 12,  6,  9, 19, 16, 14, 18,  4, 10, 15,  3,  5, 13,  2,  1,\n",
       "        1, 17,  7, 20])"
      ]
     },
     "execution_count": 8,
     "metadata": {},
     "output_type": "execute_result"
    }
   ],
   "source": [
    "#Check feature ranking by index\n",
    "feature_eliminator.ranking_"
   ]
  },
  {
   "cell_type": "code",
   "execution_count": 9,
   "metadata": {},
   "outputs": [
    {
     "name": "stdout",
     "output_type": "stream",
     "text": [
      "Number of Features Selected: 2\n",
      "\n",
      "Index of Optimal Features: \n",
      "[16, 17]\n",
      "\n",
      "Feature Names to Retain: \n",
      "['EDUCATION_High school', 'EDUCATION_University']\n"
     ]
    }
   ],
   "source": [
    "def column_index(df, query_cols):\n",
    "    cols = df.columns.values\n",
    "    sidx = np.argsort(cols)\n",
    "    return sidx[np.searchsorted(cols, query_cols, sorter = sidx)]\n",
    "\n",
    "feature_index = []\n",
    "features = []\n",
    "column_index(X_train, X_train.columns.values)\n",
    "\n",
    "for num, i in enumerate(feature_eliminator.support_, start=0):\n",
    "    if i == True:\n",
    "        feature_index.append(num)\n",
    "\n",
    "for num, i in enumerate(X_train.columns.values, start=0):\n",
    "    if num in feature_index:\n",
    "        features.append(X_train.columns.values[num])\n",
    "\n",
    "print(\"Number of Features Selected: {}\\n\".format(feature_eliminator.n_features_))\n",
    "print(\"Index of Optimal Features: \\n{}\\n\".format(feature_index))\n",
    "print(\"Feature Names to Retain: \\n{}\".format(features))"
   ]
  },
  {
   "cell_type": "code",
   "execution_count": 10,
   "metadata": {},
   "outputs": [
    {
     "name": "stdout",
     "output_type": "stream",
     "text": [
      "Optimal number of features : 2\n"
     ]
    },
    {
     "data": {
      "image/png": "[encoded data removed]",
      "text/plain": [
       "<Figure size 576x360 with 1 Axes>"
      ]
     },
     "metadata": {},
     "output_type": "display_data"
    }
   ],
   "source": [
    "#Visualize the data\n",
    "import seaborn as sns\n",
    "import matplotlib.pyplot as plt\n",
    "import matplotlib.ticker as ticker\n",
    "%matplotlib inline\n",
    "\n",
    "print(\"Optimal number of features : %d\" % feature_eliminator.n_features_)\n",
    "\n",
    "# Plot number of features VS. cross-validation scores\n",
    "\n",
    "sns.set_style(\"whitegrid\")\n",
    "fig, ax = plt.subplots(figsize=(8,5))\n",
    "\n",
    "ax.set_title('Optimal number of features')\n",
    "\n",
    "ax.set_xlabel(\"Number of features selected\")\n",
    "ax.set_ylabel(\"Cross validation score (nb of correct classifications)\")\n",
    "ax.plot(range(1, len(feature_eliminator.grid_scores_) + 1), feature_eliminator.grid_scores_)\n",
    "\n",
    "ax.xaxis.set_major_locator(ticker.MultipleLocator(1))\n",
    "\n",
    "plt.show()"
   ]
  },
  {
   "cell_type": "markdown",
   "metadata": {},
   "source": [
    "# Hyper Parameter Tuning with Grid Search CV"
   ]
  },
  {
   "cell_type": "code",
   "execution_count": 11,
   "metadata": {},
   "outputs": [
    {
     "name": "stdout",
     "output_type": "stream",
     "text": [
      "Best score from grid search: 0.6805\n",
      "Best parameters found: {'C': 0.05, 'tol': 1e-06}\n"
     ]
    }
   ],
   "source": [
    "from sklearn.model_selection import GridSearchCV\n",
    "\n",
    "#Use grid search to find best parameter after Features Elimination\n",
    "#Use only the best ranked optimal features for grid search\n",
    "hyper_grid = GridSearchCV(logreg, param_grid={'C': [0.005, 0.05, 0.5, 0.1, 1, 5, 10, 50, 500, 5000],\n",
    "              'tol' : [0.000001, 0.00001, 0.0001, 0.001, 0.01, 0.1]}, scoring='recall', cv=5, iid=False)\n",
    "\n",
    "hyper_grid.fit(normalized_Xtrain[:,16:18], y_train)\n",
    "print(\"Best score from grid search: {0:.4f}\" .format(hyper_grid.best_score_))\n",
    "print(\"Best parameters found: {}\" .format(hyper_grid.best_params_))"
   ]
  },
  {
   "cell_type": "markdown",
   "metadata": {},
   "source": [
    "# Apply optimum hyper parameter to model and evaluate "
   ]
  },
  {
   "cell_type": "code",
   "execution_count": 12,
   "metadata": {},
   "outputs": [],
   "source": [
    "#Apply Feature Elimination to X_test & standardized (if necessary)\n",
    "X_test = test[features]\n",
    "y_test = test.loc[:,'default payment next month']\n",
    "\n",
    "#Apply tuned hyper parameter to model\n",
    "new_LR_model = LogisticRegression(penalty = 'l2', C=0.05, tol = 1e-06, random_state=33113, solver='sag', max_iter=1000)\n",
    "logistic_model = new_LR_model.fit(normalized_Xtrain[:,16:18],y_train)\n",
    "\n",
    "y_predict=logistic_model.predict(X_test)\n"
   ]
  },
  {
   "cell_type": "code",
   "execution_count": 13,
   "metadata": {},
   "outputs": [
    {
     "name": "stdout",
     "output_type": "stream",
     "text": [
      "Predicted     0     1\n",
      "Actual               \n",
      "0          2686  4323\n",
      "1           585  1406\n"
     ]
    }
   ],
   "source": [
    "#Create confusion matrix \n",
    "y_actual=pd.Series(y_test,name=\"Actual\")\n",
    "y_pred=pd.Series(y_predict,name=\"Predicted\")\n",
    "df_confusion = pd.crosstab(y_actual, y_pred)\n",
    "print(df_confusion)"
   ]
  },
  {
   "cell_type": "code",
   "execution_count": 14,
   "metadata": {},
   "outputs": [
    {
     "name": "stdout",
     "output_type": "stream",
     "text": [
      "Recall/Sensitivity score : 0.7062\n",
      "Accuracy score : 0.4547\n",
      "F1 score : 0.3642\n"
     ]
    }
   ],
   "source": [
    "from sklearn.metrics import recall_score, accuracy_score, f1_score, auc\n",
    "print(\"Recall/Sensitivity score : {:.4f}\".format(recall_score(y_actual, y_pred, average='binary')))\n",
    "print(\"Accuracy score : {:.4f}\".format(accuracy_score(y_actual, y_pred)))\n",
    "print(\"F1 score : {:.4f}\".format(f1_score(y_actual, y_pred, average='binary')))"
   ]
  },
  {
   "cell_type": "markdown",
   "metadata": {},
   "source": [
    "# Machine Learning Pipeline, an exploration"
   ]
  },
  {
   "cell_type": "code",
   "execution_count": 15,
   "metadata": {},
   "outputs": [],
   "source": [
    "logreg=LogisticRegression(penalty = 'l1', random_state=33113, solver='liblinear', max_iter=500)\n",
    "\n",
    "rfecv1 = RFECV(estimator=logreg, cv=5, scoring='recall')# fit on train set\n",
    "#feature_eliminator=RFECV1.fit(normalized_Xtrain, y_train)# transform train set\n",
    "\n",
    "grid_search = GridSearchCV(logreg, param_grid={'C': [0.005, 0.05, 0.5, 0.1, 1, 5, 10, 50, 500, 5000],\n",
    "              'tol' : [0.000001, 0.00001, 0.0001, 0.001, 0.01, 0.1]}, scoring='recall', cv=5, iid=False)\n",
    "\n",
    "MyPipeline= Pipeline(steps=[('preprocess', preprocessor), ('feature_select', rfecv1), ('hyperparam_tuning', grid_search)])"
   ]
  },
  {
   "cell_type": "code",
   "execution_count": 16,
   "metadata": {},
   "outputs": [],
   "source": [
    "#Inspect the pipeline output for RFECV 'feature_select'\n",
    "X1=MyPipeline.named_steps['preprocess'].transform(X_train)\n",
    "Selector=MyPipeline.named_steps['feature_select'].fit(X1,y_train)"
   ]
  },
  {
   "cell_type": "code",
   "execution_count": 17,
   "metadata": {},
   "outputs": [
    {
     "name": "stdout",
     "output_type": "stream",
     "text": [
      "[ 8 11 12  6  9 19 16 14 18  4 10 15  3  5 13  2  1  1 17  7 20]\n"
     ]
    }
   ],
   "source": [
    "#Check out the features ranking by index\n",
    "print(Selector.ranking_)"
   ]
  },
  {
   "cell_type": "code",
   "execution_count": 18,
   "metadata": {},
   "outputs": [
    {
     "name": "stdout",
     "output_type": "stream",
     "text": [
      "Number of Features Selected: 2\n",
      "\n",
      "Index of Optimal Features: \n",
      "[16, 17]\n",
      "\n",
      "Feature Names to Retain: \n",
      "['EDUCATION_High school', 'EDUCATION_University']\n"
     ]
    }
   ],
   "source": [
    "feature_index = []\n",
    "features = []\n",
    "\n",
    "for num, i in enumerate(Selector.support_, start=0):\n",
    "    if i == True:\n",
    "        feature_index.append(num)\n",
    "\n",
    "for num, i in enumerate(X_train.columns.values, start=0):\n",
    "    if num in feature_index:\n",
    "        features.append(X_train.columns.values[num])\n",
    "\n",
    "print(\"Number of Features Selected: {}\\n\".format(Selector.n_features_))\n",
    "print(\"Index of Optimal Features: \\n{}\\n\".format(feature_index))\n",
    "print(\"Feature Names to Retain: \\n{}\".format(features))"
   ]
  },
  {
   "cell_type": "code",
   "execution_count": 19,
   "metadata": {},
   "outputs": [],
   "source": [
    "#Fit the pipeline on training data\n",
    "Result1 = MyPipeline.fit(X_train, y_train)"
   ]
  },
  {
   "cell_type": "code",
   "execution_count": 20,
   "metadata": {},
   "outputs": [
    {
     "name": "stdout",
     "output_type": "stream",
     "text": [
      "Best score from grid search: 0.6805\n",
      "Best parameters found: {'C': 0.05, 'tol': 1e-06}\n"
     ]
    }
   ],
   "source": [
    "#Get the best parameter from grid search\n",
    "print(\"Best score from grid search: {0:.4f}\" .format(Result1[2].best_score_))\n",
    "print(\"Best parameters found: {}\" .format(Result1[2].best_params_))"
   ]
  },
  {
   "cell_type": "markdown",
   "metadata": {},
   "source": [
    "# Custom Function Pipeline to choose best feature and hyperparameter"
   ]
  },
  {
   "cell_type": "code",
   "execution_count": 21,
   "metadata": {},
   "outputs": [],
   "source": [
    "from sklearn.feature_selection import RFECV# feature extraction\n",
    "from sklearn.compose import ColumnTransformer\n",
    "from sklearn.pipeline import Pipeline\n",
    "from sklearn.impute import SimpleImputer\n",
    "from sklearn.preprocessing import StandardScaler, OneHotEncoder\n",
    "from sklearn.linear_model import LogisticRegression\n",
    "from sklearn.model_selection import GridSearchCV\n",
    "\n",
    "from sklearn.base import BaseEstimator, TransformerMixin\n",
    "class FeatureSelect_ParamTuning(BaseEstimator, TransformerMixin):\n",
    "\n",
    "    def __init__(self, estimator, cv, scoring, parameters):\n",
    "        \"\"\"\n",
    "        A Custom BaseEstimator to eliminate features and get hyperparameter.\n",
    "\n",
    "        \"\"\"\n",
    "        self.estimator = estimator\n",
    "        self.cv = cv\n",
    "        self.scoring = scoring\n",
    "        self.parameters = parameters\n",
    "        pass\n",
    "\n",
    "    def fit(self, X, y=None):\n",
    "        return self\n",
    "    \n",
    "    def transform(self, X, y=None):\n",
    "        rfecv = RFECV(estimator=self.estimator, cv=self.cv, scoring=self.scoring)# fit on train set\n",
    "        grid_search = GridSearchCV(self.estimator, param_grid=self.parameters, scoring=self.scoring, cv=self.cv, iid=False)\n",
    "        X= Pipeline(steps=[('preprocess', preprocessor), ('feature_select', rfecv), ('hyperparam_tuning', grid_search)])\n",
    "        return X"
   ]
  },
  {
   "cell_type": "code",
   "execution_count": 22,
   "metadata": {},
   "outputs": [],
   "source": [
    "parameters = [{'C': [0.005, 0.05, 0.5, 0.1, 1, 5, 10, 50, 500, 5000],\n",
    "              'tol' : [0.000001, 0.00001, 0.0001, 0.001, 0.01, 0.1]}]\n",
    "cv=5\n",
    "scoring = 'recall'\n",
    "model = LogisticRegression(penalty = 'l1', random_state=33113, solver='liblinear', max_iter=200)\n",
    "\n",
    "Optimize1 = FeatureSelect_ParamTuning(estimator=model,cv=cv, scoring=scoring, parameters=parameters)\n",
    "Pipeline1=Optimize1.transform(X_train)\n",
    "Result_logreg= Pipeline1.fit(X_train,y_train)"
   ]
  },
  {
   "cell_type": "code",
   "execution_count": 23,
   "metadata": {},
   "outputs": [
    {
     "name": "stdout",
     "output_type": "stream",
     "text": [
      "Number of Features Selected: 2\n",
      "\n",
      "Index of Optimal Features: \n",
      "[16, 17]\n",
      "\n",
      "Feature Names to Retain: \n",
      "['EDUCATION_High school', 'EDUCATION_University']\n"
     ]
    }
   ],
   "source": [
    "feature_index = []\n",
    "features = []\n",
    "\n",
    "for num, i in enumerate(Result_logreg[1].support_, start=0):\n",
    "    if i == True:\n",
    "        feature_index.append(num)\n",
    "\n",
    "for num, i in enumerate(X_train.columns.values, start=0):\n",
    "    if num in feature_index:\n",
    "        features.append(X_train.columns.values[num])\n",
    "\n",
    "print(\"Number of Features Selected: {}\\n\".format(Result_logreg[1].n_features_))\n",
    "print(\"Index of Optimal Features: \\n{}\\n\".format(feature_index))\n",
    "print(\"Feature Names to Retain: \\n{}\".format(features))"
   ]
  },
  {
   "cell_type": "code",
   "execution_count": 24,
   "metadata": {},
   "outputs": [
    {
     "name": "stdout",
     "output_type": "stream",
     "text": [
      "Best score from grid search: 0.6805\n",
      "Best parameters found: {'C': 0.05, 'tol': 1e-06}\n"
     ]
    }
   ],
   "source": [
    "#Get the best parameter from grid search\n",
    "print(\"Best score from grid search: {0:.4f}\" .format(Result_logreg[2].best_score_))\n",
    "print(\"Best parameters found: {}\" .format(Result_logreg[2].best_params_))"
   ]
  },
  {
   "cell_type": "markdown",
   "metadata": {},
   "source": [
    "# Custom Function to print params and features"
   ]
  },
  {
   "cell_type": "code",
   "execution_count": 25,
   "metadata": {},
   "outputs": [],
   "source": [
    "class GetFeaturesnParams():\n",
    "\n",
    "    def __init__(self, X):\n",
    "        \"\"\"\n",
    "        A Custom Function to print out features and best parameters\n",
    "        \"\"\"\n",
    "        X_train= X\n",
    "        pass\n",
    "\n",
    "    def fit(self, X, y=None):\n",
    "        return self\n",
    "    \n",
    "    def reveal(self, X, y=None):\n",
    "        feature_index = []\n",
    "        features = []\n",
    "\n",
    "        for num, i in enumerate(self[1].support_, start=0):\n",
    "            if i == True:\n",
    "                feature_index.append(num)\n",
    "\n",
    "        for num, i in enumerate(X_train.columns.values, start=0):\n",
    "            if num in feature_index:\n",
    "                features.append(X_train.columns.values[num])\n",
    "\n",
    "        print(\"Number of Features Selected: {}\\n\".format(self[1].n_features_))\n",
    "        print(\"Index of Optimal Features: \\n{}\\n\".format(feature_index))\n",
    "        print(\"Feature Names to Retain: \\n{}\\n\".format(features))\n",
    "        print(\"Best score from grid search: {0:.4f}\" .format(self[2].best_score_))\n",
    "        print(\"Best parameters found: {}\" .format(self[2].best_params_))\n",
    "        return None"
   ]
  },
  {
   "cell_type": "code",
   "execution_count": 26,
   "metadata": {},
   "outputs": [
    {
     "name": "stdout",
     "output_type": "stream",
     "text": [
      "Number of Features Selected: 2\n",
      "\n",
      "Index of Optimal Features: \n",
      "[16, 17]\n",
      "\n",
      "Feature Names to Retain: \n",
      "['EDUCATION_High school', 'EDUCATION_University']\n",
      "\n",
      "Best score from grid search: 0.6805\n",
      "Best parameters found: {'C': 0.05, 'tol': 1e-06}\n"
     ]
    }
   ],
   "source": [
    "GetFeaturesnParams.reveal(Result_logreg,X_train)"
   ]
  },
  {
   "cell_type": "code",
   "execution_count": 27,
   "metadata": {},
   "outputs": [],
   "source": [
    "#Apply Feature Elimination to X_test & standardized (if necessary)\n",
    "X_test = test[features]\n",
    "y_test = test.loc[:,'default payment next month']\n",
    "\n",
    "normalized_Xtrain = preprocessor.fit_transform(X_train)\n",
    "new_Xtrain = normalized_Xtrain[:,feature_index]\n",
    "\n",
    "#print(X_test.head(5))\n",
    "#Apply tuned hyper parameter to model\n",
    "new_LR_model = LogisticRegression(penalty = 'l1', C=0.05, tol = 1e-06, random_state=33113, solver='liblinear', max_iter=500)\n",
    "logistic_model = new_LR_model.fit(new_Xtrain,y_train)\n",
    "\n",
    "y_predict=logistic_model.predict(X_test)"
   ]
  },
  {
   "cell_type": "code",
   "execution_count": 28,
   "metadata": {},
   "outputs": [
    {
     "name": "stdout",
     "output_type": "stream",
     "text": [
      "Predicted     0     1\n",
      "Actual               \n",
      "0          2686  4323\n",
      "1           585  1406\n"
     ]
    }
   ],
   "source": [
    "#Create confusion matrix \n",
    "y_actual=pd.Series(y_test,name=\"Actual\")\n",
    "y_pred=pd.Series(y_predict,name=\"Predicted\")\n",
    "df_confusion = pd.crosstab(y_actual, y_pred)\n",
    "print(df_confusion)"
   ]
  },
  {
   "cell_type": "markdown",
   "metadata": {},
   "source": [
    "# Comparing Classifier Models"
   ]
  },
  {
   "cell_type": "markdown",
   "metadata": {},
   "source": [
    "Unfortunately unable to perform RFE on certain algorithms without the attribute .coef_ or .feature_importance. Let's see the important feature by ranking from the RFE results in Logistic Regression."
   ]
  },
  {
   "cell_type": "code",
   "execution_count": 29,
   "metadata": {},
   "outputs": [
    {
     "name": "stdout",
     "output_type": "stream",
     "text": [
      "Top 8 Features from RFE: \n",
      "['Sept05_PayAmt', 'avrg_delay', 'Aug_Pay_Ratio', 'Missed_payments', 'EDUCATION_Grad school', 'EDUCATION_High school', 'EDUCATION_University', 'MARRIAGE_Married']\n"
     ]
    }
   ],
   "source": [
    "top_8_index = np.argsort(Selector.ranking_)[0:8]\n",
    "\n",
    "top_8_features=[]\n",
    "\n",
    "for num, i in enumerate(X_train.columns.values, start=0):\n",
    "    if num in top_8_index:\n",
    "        #print(i)\n",
    "        top_8_features.append(i)\n",
    "\n",
    "print(\"Top 8 Features from RFE: \\n{}\".format(top_8_features))"
   ]
  },
  {
   "cell_type": "markdown",
   "metadata": {},
   "source": [
    "# Remove RFE from Pipeline & rewrite function to choose and hyperparameter"
   ]
  },
  {
   "cell_type": "code",
   "execution_count": 34,
   "metadata": {},
   "outputs": [],
   "source": [
    "from sklearn.compose import ColumnTransformer\n",
    "from sklearn.pipeline import Pipeline\n",
    "from sklearn.impute import SimpleImputer\n",
    "from sklearn.preprocessing import StandardScaler\n",
    "from sklearn.linear_model import LogisticRegression\n",
    "from sklearn.model_selection import GridSearchCV\n",
    "\n",
    "from sklearn.base import BaseEstimator, TransformerMixin\n",
    "class HyperParamTuning(BaseEstimator, TransformerMixin):\n",
    "\n",
    "    def __init__(self, num_features, cat_features, estimator, cv, scoring, parameters):\n",
    "        \"\"\"\n",
    "        A Custom BaseEstimator to eliminate features and get hyperparameter.\n",
    "\n",
    "        \"\"\"\n",
    "        self.estimator = estimator\n",
    "        self.cv=cv\n",
    "        self.scoring = scoring\n",
    "        self.parameters = parameters\n",
    "        #numerical features\n",
    "        self.nf = num_features\n",
    "        #categorical features\n",
    "        self.cf = cat_features\n",
    "        pass\n",
    "\n",
    "    def fit(self, X, y=None):\n",
    "        return self\n",
    "    \n",
    "    def transform(self, X, y=None):\n",
    "        \n",
    "        numeric_transformer = Pipeline(steps=[('scaler', StandardScaler())])\n",
    "        categorical_transformer = Pipeline(steps=[('',None)])\n",
    "        preprocessor = ColumnTransformer(\n",
    "        transformers=[\n",
    "        ('num', numeric_transformer, self.nf),\n",
    "        ('cat', categorical_transformer, self.cf)], remainder = 'passthrough')\n",
    "        grid_search = GridSearchCV(self.estimator, param_grid=self.parameters, scoring=self.scoring, cv=self.cv, iid=False)\n",
    "        X= Pipeline(steps=[('preprocess', preprocessor), ('hyperparam_tuning', grid_search)])\n",
    "        return X\n",
    "    "
   ]
  },
  {
   "cell_type": "markdown",
   "metadata": {},
   "source": [
    "# Test out above function"
   ]
  },
  {
   "cell_type": "code",
   "execution_count": 37,
   "metadata": {},
   "outputs": [],
   "source": [
    "parameters = [{'C': [0.005, 0.05, 0.5, 0.1, 1, 5, 10, 50, 500, 5000],\n",
    "              'tol' : [0.000001, 0.00001, 0.0001, 0.001, 0.01, 0.1]}]\n",
    "cv=5\n",
    "scoring = 'recall'\n",
    "model = LogisticRegression(penalty = 'l1', random_state=33113, solver='liblinear', max_iter=200)\n",
    "\n",
    "Optimize2 = HyperParamTuning(num_features=nf,cat_features=cf,estimator=model,cv=cv, scoring=scoring, parameters=parameters)\n",
    "Pipeline2=Optimize2.transform(X_train)\n",
    "Result_logreg= Pipeline2.fit(X_train,y_train)"
   ]
  },
  {
   "cell_type": "code",
   "execution_count": 38,
   "metadata": {},
   "outputs": [
    {
     "name": "stdout",
     "output_type": "stream",
     "text": [
      "Best score from grid search: 0.6691\n",
      "Best parameters found: {'C': 0.005, 'tol': 0.1}\n"
     ]
    }
   ],
   "source": [
    "#Get the best parameter from grid search\n",
    "print(\"Best score from grid search: {0:.4f}\" .format(Result_logreg[1].best_score_))\n",
    "print(\"Best parameters found: {}\" .format(Result_logreg[1].best_params_))"
   ]
  },
  {
   "cell_type": "code",
   "execution_count": 146,
   "metadata": {},
   "outputs": [
    {
     "name": "stdout",
     "output_type": "stream",
     "text": [
      "['__abstractmethods__', '__class__', '__delattr__', '__dict__', '__dir__', '__doc__', '__eq__', '__format__', '__ge__', '__getattribute__', '__getstate__', '__gt__', '__hash__', '__init__', '__init_subclass__', '__le__', '__lt__', '__module__', '__ne__', '__new__', '__reduce__', '__reduce_ex__', '__repr__', '__setattr__', '__setstate__', '__sizeof__', '__str__', '__subclasshook__', '__weakref__', '_abc_cache', '_abc_negative_cache', '_abc_negative_cache_version', '_abc_registry', '_check_is_fitted', '_estimator_type', '_format_results', '_get_param_names', '_get_tags', '_required_parameters', '_run_search', 'best_estimator_', 'best_index_', 'best_params_', 'best_score_', 'classes_', 'cv', 'cv_results_', 'decision_function', 'error_score', 'estimator', 'fit', 'get_params', 'iid', 'inverse_transform', 'multimetric_', 'n_jobs', 'n_splits_', 'param_grid', 'pre_dispatch', 'predict', 'predict_log_proba', 'predict_proba', 'refit', 'refit_time_', 'return_train_score', 'score', 'scorer_', 'scoring', 'set_params', 'transform', 'verbose']\n",
      "LogisticRegression(C=1.0, class_weight=None, dual=False, fit_intercept=True,\n",
      "                   intercept_scaling=1, l1_ratio=None, max_iter=200,\n",
      "                   multi_class='warn', n_jobs=None, penalty='l1',\n",
      "                   random_state=33113, solver='liblinear', tol=0.0001,\n",
      "                   verbose=0, warm_start=False)\n"
     ]
    }
   ],
   "source": [
    "print(dir(Result_logreg[1]))\n",
    "print(Result_logreg[1].estimator)"
   ]
  },
  {
   "cell_type": "markdown",
   "metadata": {},
   "source": [
    "# All set to go : Let's start again, this time, filter X_train by best 8 features"
   ]
  },
  {
   "cell_type": "code",
   "execution_count": 117,
   "metadata": {},
   "outputs": [
    {
     "data": {
      "text/plain": [
       "(9290, 8)"
      ]
     },
     "execution_count": 117,
     "metadata": {},
     "output_type": "execute_result"
    }
   ],
   "source": [
    "new_Xtrain = X_train.iloc[:,top_8_index]\n",
    "#new_Xtrain.head(5)\n",
    "new_Xtrain.shape"
   ]
  },
  {
   "cell_type": "markdown",
   "metadata": {},
   "source": [
    "List Feature eliminated num_Features and cat_features"
   ]
  },
  {
   "cell_type": "code",
   "execution_count": 118,
   "metadata": {},
   "outputs": [],
   "source": [
    "FE_cf = list(new_Xtrain.columns.values[i] for i in [0,1,2,7])\n",
    "FE_nf = [x for x in new_Xtrain.columns.values if x not in FE_cf]"
   ]
  },
  {
   "cell_type": "code",
   "execution_count": 119,
   "metadata": {},
   "outputs": [],
   "source": [
    "#numerical features\n",
    "nf = FE_nf\n",
    "#categorical features\n",
    "cf = FE_cf\n",
    "\n",
    "preprocessor = ColumnTransformer(\n",
    "    transformers=[\n",
    "        ('num', numeric_transformer, nf),\n",
    "        ('cat', categorical_transformer, cf)], remainder = 'passthrough')"
   ]
  },
  {
   "cell_type": "code",
   "execution_count": 120,
   "metadata": {},
   "outputs": [
    {
     "name": "stdout",
     "output_type": "stream",
     "text": [
      "   EDUCATION_University  EDUCATION_High school  EDUCATION_Grad school  \\\n",
      "0                     0                      0                      1   \n",
      "1                     0                      0                      1   \n",
      "2                     0                      1                      0   \n",
      "3                     1                      0                      0   \n",
      "4                     1                      0                      0   \n",
      "\n",
      "   Aug_Pay_Ratio  avrg_delay  Missed_payments  Sept05_PayAmt  MARRIAGE_Married  \n",
      "0       0.000000    5.500000                5              0                 1  \n",
      "1       1.004885   -2.000000                0           4114                 1  \n",
      "2       0.201877   -0.500000                1           2000                 1  \n",
      "3       0.000000    0.500000                3              0                 0  \n",
      "4       0.141303   -0.333333                1           3000                 1  \n",
      "(9000, 8)\n"
     ]
    }
   ],
   "source": [
    "X_test=test.iloc[:,:-1]\n",
    "y_test=test['default payment next month']\n",
    "new_Xtest = X_test.iloc[:,top_8_index]\n",
    "\n",
    "print(new_Xtest.head(5))\n",
    "\n",
    "normalized_new_Xtrain = preprocessor.fit_transform(new_Xtrain)\n",
    "\n",
    "new_Xtrain_transformer= preprocessor.fit(new_Xtrain)\n",
    "\n",
    "normalized_new_Xtest = new_Xtrain_transformer.transform(X_test)\n",
    "#y_actual=pd.Series(y_test,name=\"Actual\")\n",
    "\n",
    "print(normalized_new_Xtest.shape)"
   ]
  },
  {
   "cell_type": "markdown",
   "metadata": {},
   "source": [
    "# Apply to the list of classifiers"
   ]
  },
  {
   "cell_type": "code",
   "execution_count": 168,
   "metadata": {},
   "outputs": [],
   "source": [
    "from sklearn.linear_model import LogisticRegression, SGDClassifier\n",
    "from sklearn.neighbors import KNeighborsClassifier\n",
    "from sklearn.tree import DecisionTreeClassifier\n",
    "from sklearn.ensemble import RandomForestClassifier, AdaBoostClassifier, GradientBoostingClassifier\n",
    "from sklearn.naive_bayes import GaussianNB\n",
    "from sklearn.svm import SVC\n",
    "from sklearn.neural_network import MLPClassifier\n",
    "\n",
    "classifiers = [\n",
    "    LogisticRegression(penalty = 'l1', random_state=33113, solver='liblinear', max_iter=500),\n",
    "    KNeighborsClassifier(algorithm = 'brute', metric = 'euclidean'),\n",
    "    DecisionTreeClassifier(max_depth=5,random_state=33113),\n",
    "    RandomForestClassifier(max_depth=5, max_features=None,random_state=33113),\n",
    "    AdaBoostClassifier(random_state=33113),\n",
    "    GradientBoostingClassifier(max_features = None,random_state=33113),\n",
    "    GaussianNB(),\n",
    "    SVC(kernel=\"linear\", random_state=31133),\n",
    "    SVC(kernel='rbf', random_state= 31133),\n",
    "    SGDClassifier(penalty = 'elasticnet', l1_ratio=0, learning_rate='adaptive', eta0 = 0.2),\n",
    "    MLPClassifier(activation = 'relu', solver='adam', learning_rate='adaptive', max_iter=1000)\n",
    "]\n",
    "\n",
    "param1 = [{'C': [0.005, 0.01, 0.05, 0.1, 0.5, 1, 5, 10, 20, 30, 50],\n",
    "           'tol' : [0.000001, 0.00001, 0.0001, 0.001, 0.01, 0.1, 0.5, 1.0]}]\n",
    "\n",
    "param2 = [{'n_neighbors': [3,5,7,9,11]}]\n",
    "\n",
    "param3 = [{'min_samples_leaf': [70,80,90,100,110,120]}]\n",
    "\n",
    "param4 = [{'n_estimators': [10,25,50,100,200],\n",
    "           'min_samples_leaf': [1500,1600,1700,1800,1900,2000]}]\n",
    "\n",
    "param5 = [{'n_estimators': [150,175,200,225,250,],\n",
    "           'learning_rate': [0.5,0.8,1.0,1.2,1.5,2.0]}]\n",
    "\n",
    "param6 = [{'n_estimators': [8,9,10,11,12,20,50,100,150],\n",
    "           'learning_rate': [1.0,3.0,4.0,5.0,6.0,7.0,9.0],\n",
    "           'min_samples_leaf': [1700,1800,1900,2000,2100,2200,2300]}]\n",
    "\n",
    "param7 = [{'var_smoothing': [1e-18,1e-17,1e-16, 1e-15, 1e-13]}]\n",
    "\n",
    "param8 = [{'C': [0.0001,0.001,0.01,0.1,0.5,1.0,2.0,5.0],\n",
    "          'tol':[0.0001, 0.001, 0.01, 0.1, 0.5, 1.0, 2.0, 5.0]}]\n",
    "\n",
    "param9 = [{'C': [0.0001,0.001,0.01,0.1,0.5,1.0],\n",
    "          'tol':[0.001, 0.01, 0.1, 0.5, 1.0, 2.0],\n",
    "          'gamma':[0.5,1.0,2.0,3.0]}]\n",
    "\n",
    "param10 = [{'alpha': [1, 5, 8, 9, 10, 11, 12, 13, 15],\n",
    "           'tol': [0.0001, 0.001, 0.01, 0.1, 0.2, 0.5]}]\n",
    "\n",
    "param11 = [{'alpha': [1, 10, 40, 50, 55, 60, 70],\n",
    "           'tol': [1e-08, 1e-07, 1e-06, 1e-05, 1e-04, 1e-03, 1e-02, 0.1]}]\n",
    "\n",
    "allparams = [param1, param2, param3, param4, param5, param6, param7, param8, param9, param10, param11]\n",
    "#allparams = [param11]\n",
    "\n",
    "cv=5\n",
    "scoring = 'recall'"
   ]
  },
  {
   "cell_type": "code",
   "execution_count": 169,
   "metadata": {},
   "outputs": [
    {
     "name": "stdout",
     "output_type": "stream",
     "text": [
      "LogisticRegression(C=1.0, class_weight=None, dual=False, fit_intercept=True,\n",
      "                   intercept_scaling=1, l1_ratio=None, max_iter=500,\n",
      "                   multi_class='warn', n_jobs=None, penalty='l1',\n",
      "                   random_state=33113, solver='liblinear', tol=0.0001,\n",
      "                   verbose=0, warm_start=False)\n",
      "KNeighborsClassifier(algorithm='brute', leaf_size=30, metric='euclidean',\n",
      "                     metric_params=None, n_jobs=None, n_neighbors=5, p=2,\n",
      "                     weights='uniform')\n",
      "DecisionTreeClassifier(class_weight=None, criterion='gini', max_depth=5,\n",
      "                       max_features=None, max_leaf_nodes=None,\n",
      "                       min_impurity_decrease=0.0, min_impurity_split=None,\n",
      "                       min_samples_leaf=1, min_samples_split=2,\n",
      "                       min_weight_fraction_leaf=0.0, presort=False,\n",
      "                       random_state=33113, splitter='best')\n",
      "RandomForestClassifier(bootstrap=True, class_weight=None, criterion='gini',\n",
      "                       max_depth=5, max_features=None, max_leaf_nodes=None,\n",
      "                       min_impurity_decrease=0.0, min_impurity_split=None,\n",
      "                       min_samples_leaf=1, min_samples_split=2,\n",
      "                       min_weight_fraction_leaf=0.0, n_estimators='warn',\n",
      "                       n_jobs=None, oob_score=False, random_state=33113,\n",
      "                       verbose=0, warm_start=False)\n",
      "AdaBoostClassifier(algorithm='SAMME.R', base_estimator=None, learning_rate=1.0,\n",
      "                   n_estimators=50, random_state=33113)\n",
      "GradientBoostingClassifier(criterion='friedman_mse', init=None,\n",
      "                           learning_rate=0.1, loss='deviance', max_depth=3,\n",
      "                           max_features=None, max_leaf_nodes=None,\n",
      "                           min_impurity_decrease=0.0, min_impurity_split=None,\n",
      "                           min_samples_leaf=1, min_samples_split=2,\n",
      "                           min_weight_fraction_leaf=0.0, n_estimators=100,\n",
      "                           n_iter_no_change=None, presort='auto',\n",
      "                           random_state=33113, subsample=1.0, tol=0.0001,\n",
      "                           validation_fraction=0.1, verbose=0,\n",
      "                           warm_start=False)\n",
      "GaussianNB(priors=None, var_smoothing=1e-09)\n",
      "SVC(C=1.0, cache_size=200, class_weight=None, coef0=0.0,\n",
      "    decision_function_shape='ovr', degree=3, gamma='auto_deprecated',\n",
      "    kernel='linear', max_iter=-1, probability=False, random_state=31133,\n",
      "    shrinking=True, tol=0.001, verbose=False)\n",
      "SVC(C=1.0, cache_size=200, class_weight=None, coef0=0.0,\n",
      "    decision_function_shape='ovr', degree=3, gamma='auto_deprecated',\n",
      "    kernel='rbf', max_iter=-1, probability=False, random_state=31133,\n",
      "    shrinking=True, tol=0.001, verbose=False)\n",
      "SGDClassifier(alpha=0.0001, average=False, class_weight=None,\n",
      "              early_stopping=False, epsilon=0.1, eta0=0.2, fit_intercept=True,\n",
      "              l1_ratio=0, learning_rate='adaptive', loss='hinge', max_iter=1000,\n",
      "              n_iter_no_change=5, n_jobs=None, penalty='elasticnet',\n",
      "              power_t=0.5, random_state=None, shuffle=True, tol=0.001,\n",
      "              validation_fraction=0.1, verbose=0, warm_start=False)\n",
      "MLPClassifier(activation='relu', alpha=0.0001, batch_size='auto', beta_1=0.9,\n",
      "              beta_2=0.999, early_stopping=False, epsilon=1e-08,\n",
      "              hidden_layer_sizes=(100,), learning_rate='adaptive',\n",
      "              learning_rate_init=0.001, max_iter=1000, momentum=0.9,\n",
      "              n_iter_no_change=10, nesterovs_momentum=True, power_t=0.5,\n",
      "              random_state=None, shuffle=True, solver='adam', tol=0.0001,\n",
      "              validation_fraction=0.1, verbose=False, warm_start=False)\n"
     ]
    }
   ],
   "source": [
    "results=[]\n",
    "\n",
    "for num,clf in enumerate(classifiers):\n",
    "    print(classifiers[num])\n",
    "    Optimize = HyperParamTuning(num_features=FE_nf,cat_features=FE_cf,estimator=clf,cv=cv, scoring=scoring, parameters=allparams[num])\n",
    "    OptPipeline =Optimize.transform(new_Xtrain)\n",
    "    optim_results= OptPipeline.fit(new_Xtrain,y_train)\n",
    "    results.append(optim_results)\n",
    "    "
   ]
  },
  {
   "cell_type": "code",
   "execution_count": 170,
   "metadata": {},
   "outputs": [
    {
     "name": "stdout",
     "output_type": "stream",
     "text": [
      "LogisticRegression(C=1.0, class_weight=None, dual=False, fit_intercept=True,\n",
      "                   intercept_scaling=1, l1_ratio=None, max_iter=500,\n",
      "                   multi_class='warn', n_jobs=None, penalty='l1',\n",
      "                   random_state=33113, solver='liblinear', tol=0.0001,\n",
      "                   verbose=0, warm_start=False)\n",
      "Best score from grid search: 0.6099\n",
      "Best parameters found: {'C': 5, 'tol': 0.5}\n",
      "KNeighborsClassifier(algorithm='brute', leaf_size=30, metric='euclidean',\n",
      "                     metric_params=None, n_jobs=None, n_neighbors=5, p=2,\n",
      "                     weights='uniform')\n",
      "Best score from grid search: 0.6452\n",
      "Best parameters found: {'n_neighbors': 9}\n",
      "DecisionTreeClassifier(class_weight=None, criterion='gini', max_depth=5,\n",
      "                       max_features=None, max_leaf_nodes=None,\n",
      "                       min_impurity_decrease=0.0, min_impurity_split=None,\n",
      "                       min_samples_leaf=1, min_samples_split=2,\n",
      "                       min_weight_fraction_leaf=0.0, presort=False,\n",
      "                       random_state=33113, splitter='best')\n",
      "Best score from grid search: 0.6316\n",
      "Best parameters found: {'min_samples_leaf': 120}\n",
      "RandomForestClassifier(bootstrap=True, class_weight=None, criterion='gini',\n",
      "                       max_depth=5, max_features=None, max_leaf_nodes=None,\n",
      "                       min_impurity_decrease=0.0, min_impurity_split=None,\n",
      "                       min_samples_leaf=1, min_samples_split=2,\n",
      "                       min_weight_fraction_leaf=0.0, n_estimators='warn',\n",
      "                       n_jobs=None, oob_score=False, random_state=33113,\n",
      "                       verbose=0, warm_start=False)\n",
      "Best score from grid search: 0.6790\n",
      "Best parameters found: {'min_samples_leaf': 1700, 'n_estimators': 10}\n",
      "AdaBoostClassifier(algorithm='SAMME.R', base_estimator=None, learning_rate=1.0,\n",
      "                   n_estimators=50, random_state=33113)\n",
      "Best score from grid search: 0.6250\n",
      "Best parameters found: {'learning_rate': 1.2, 'n_estimators': 150}\n",
      "GradientBoostingClassifier(criterion='friedman_mse', init=None,\n",
      "                           learning_rate=0.1, loss='deviance', max_depth=3,\n",
      "                           max_features=None, max_leaf_nodes=None,\n",
      "                           min_impurity_decrease=0.0, min_impurity_split=None,\n",
      "                           min_samples_leaf=1, min_samples_split=2,\n",
      "                           min_weight_fraction_leaf=0.0, n_estimators=100,\n",
      "                           n_iter_no_change=None, presort='auto',\n",
      "                           random_state=33113, subsample=1.0, tol=0.0001,\n",
      "                           validation_fraction=0.1, verbose=0,\n",
      "                           warm_start=False)\n",
      "Best score from grid search: 1.0000\n",
      "Best parameters found: {'learning_rate': 5.0, 'min_samples_leaf': 1700, 'n_estimators': 8}\n",
      "GaussianNB(priors=None, var_smoothing=1e-09)\n",
      "Best score from grid search: 0.8975\n",
      "Best parameters found: {'var_smoothing': 1e-18}\n",
      "SVC(C=1.0, cache_size=200, class_weight=None, coef0=0.0,\n",
      "    decision_function_shape='ovr', degree=3, gamma='auto_deprecated',\n",
      "    kernel='linear', max_iter=-1, probability=False, random_state=31133,\n",
      "    shrinking=True, tol=0.001, verbose=False)\n",
      "Best score from grid search: 1.0000\n",
      "Best parameters found: {'C': 0.0001, 'tol': 5.0}\n",
      "SVC(C=1.0, cache_size=200, class_weight=None, coef0=0.0,\n",
      "    decision_function_shape='ovr', degree=3, gamma='auto_deprecated',\n",
      "    kernel='rbf', max_iter=-1, probability=False, random_state=31133,\n",
      "    shrinking=True, tol=0.001, verbose=False)\n",
      "Best score from grid search: 0.8026\n",
      "Best parameters found: {'C': 0.0001, 'gamma': 3.0, 'tol': 0.001}\n",
      "SGDClassifier(alpha=0.0001, average=False, class_weight=None,\n",
      "              early_stopping=False, epsilon=0.1, eta0=0.2, fit_intercept=True,\n",
      "              l1_ratio=0, learning_rate='adaptive', loss='hinge', max_iter=1000,\n",
      "              n_iter_no_change=5, n_jobs=None, penalty='elasticnet',\n",
      "              power_t=0.5, random_state=None, shuffle=True, tol=0.001,\n",
      "              validation_fraction=0.1, verbose=0, warm_start=False)\n",
      "Best score from grid search: 0.8654\n",
      "Best parameters found: {'alpha': 8, 'tol': 0.2}\n",
      "MLPClassifier(activation='relu', alpha=0.0001, batch_size='auto', beta_1=0.9,\n",
      "              beta_2=0.999, early_stopping=False, epsilon=1e-08,\n",
      "              hidden_layer_sizes=(100,), learning_rate='adaptive',\n",
      "              learning_rate_init=0.001, max_iter=1000, momentum=0.9,\n",
      "              n_iter_no_change=10, nesterovs_momentum=True, power_t=0.5,\n",
      "              random_state=None, shuffle=True, solver='adam', tol=0.0001,\n",
      "              validation_fraction=0.1, verbose=False, warm_start=False)\n",
      "Best score from grid search: 1.0000\n",
      "Best parameters found: {'alpha': 50, 'tol': 0.01}\n"
     ]
    }
   ],
   "source": [
    "#Get the best parameter from grid search\n",
    "for n,item in enumerate(results):\n",
    "    print(classifiers[n])\n",
    "    print(\"Best score from grid search: {0:.4f}\" .format(results[n][1].best_score_))\n",
    "    print(\"Best parameters found: {}\" .format(results[n][1].best_params_))"
   ]
  },
  {
   "cell_type": "code",
   "execution_count": 177,
   "metadata": {},
   "outputs": [
    {
     "name": "stdout",
     "output_type": "stream",
     "text": [
      "LogisticRegression\n",
      "Recall/Sensitivity score : 0.5952\n",
      "Accuracy score : 0.7143\n",
      "F1 score : 0.4797\n",
      "KNeighborsClassifier\n",
      "Recall/Sensitivity score : 0.6524\n",
      "Accuracy score : 0.6878\n",
      "F1 score : 0.4804\n",
      "DecisionTreeClassifier\n",
      "Recall/Sensitivity score : 0.6524\n",
      "Accuracy score : 0.7191\n",
      "F1 score : 0.5068\n",
      "RandomForestClassifier\n",
      "Recall/Sensitivity score : 0.5239\n",
      "Accuracy score : 0.7720\n",
      "F1 score : 0.5041\n",
      "AdaBoostClassifier\n",
      "Recall/Sensitivity score : 0.6173\n",
      "Accuracy score : 0.7441\n",
      "F1 score : 0.5163\n",
      "GradientBoostingClassifier\n",
      "Recall/Sensitivity score : 0.7921\n",
      "Accuracy score : 0.3392\n",
      "F1 score : 0.3466\n",
      "GaussianNB\n",
      "Recall/Sensitivity score : 0.9809\n",
      "Accuracy score : 0.2610\n",
      "F1 score : 0.3700\n",
      "SVC\n",
      "Recall/Sensitivity score : 1.0000\n",
      "Accuracy score : 0.2212\n",
      "F1 score : 0.3623\n",
      "SVC\n",
      "Recall/Sensitivity score : 0.8001\n",
      "Accuracy score : 0.4742\n",
      "F1 score : 0.4024\n",
      "SGDClassifier\n",
      "Recall/Sensitivity score : 0.9995\n",
      "Accuracy score : 0.2221\n",
      "F1 score : 0.3624\n",
      "MLPClassifier\n",
      "Recall/Sensitivity score : 1.0000\n",
      "Accuracy score : 0.2212\n",
      "F1 score : 0.3623\n"
     ]
    }
   ],
   "source": [
    "from sklearn.metrics import recall_score, accuracy_score, f1_score, auc\n",
    "#Apply the optimum hyper parameter into the model\n",
    "#Loop through the classifiers and get the scores\n",
    "classifiers = [\n",
    "    LogisticRegression(penalty = 'l1', tol = 0.5, C = 5, random_state=33113, solver='liblinear', max_iter=500),\n",
    "    KNeighborsClassifier(n_neighbors = 9, algorithm = 'brute', metric = 'euclidean'),\n",
    "    DecisionTreeClassifier(min_samples_leaf = 120, max_depth=5),\n",
    "    RandomForestClassifier(n_estimators = 10, min_samples_leaf = 1700, max_depth=5, max_features=None),\n",
    "    AdaBoostClassifier(n_estimators =150, learning_rate = 1.2),\n",
    "    GradientBoostingClassifier(n_estimators=8, learning_rate = 5.0, min_samples_leaf=1700),\n",
    "    GaussianNB(var_smoothing = 1e-18),\n",
    "    SVC(kernel=\"linear\",C=0.0001, tol= 5.0, random_state=31133),\n",
    "    SVC(kernel='rbf', C=0.001, tol= 0.001, gamma=3.0, random_state= 31133),\n",
    "    SGDClassifier(penalty = 'elasticnet', alpha= 8, tol=0.2,l1_ratio=0, learning_rate='adaptive', eta0 = 0.2),\n",
    "    MLPClassifier(activation = 'relu', solver='adam', alpha=70, tol=0.01, learning_rate='adaptive', max_iter=1000)\n",
    "]\n",
    "\n",
    "clf_list=[]\n",
    "recallscores=[]\n",
    "\n",
    "for clf in classifiers:\n",
    "#Apply tuned hyper parameter to model\n",
    "    algo_name = str(clf)\n",
    "    a= algo_name.find(\"(\")\n",
    "    print(algo_name[:a])\n",
    "    clf_list.append(algo_name[:a])\n",
    "    model = clf.fit(normalized_new_Xtrain,y_train)\n",
    "    y_predict=model.predict(normalized_new_Xtest)\n",
    "    y_pred=pd.Series(y_predict,name=\"Predicted\")\n",
    "    recallscores.append(recall_score(y_actual, y_pred, average='binary'))\n",
    "    print(\"Recall/Sensitivity score : {:.4f}\".format(recall_score(y_actual, y_pred, average='binary')))\n",
    "    print(\"Accuracy score : {:.4f}\".format(accuracy_score(y_actual, y_pred)))\n",
    "    print(\"F1 score : {:.4f}\".format(f1_score(y_actual, y_pred, average='binary')))"
   ]
  },
  {
   "cell_type": "code",
   "execution_count": 216,
   "metadata": {},
   "outputs": [],
   "source": [
    "df = pd.DataFrame({'classifiers': clf_list, 'recall_scores': recallscores})\n",
    "clf_name_dict = {'KNeighborsClassifier':'KNN', 'DecisionTreeClassifier': 'DecisionTree', 'RandomForestClassifier': 'RandomForest',\n",
    "                'AdaBoostClassifier':'AdaBoost', 'GradientBoostingClassifier': 'GradientBoost','SGDClassifier': 'SGD',\n",
    "                'MLPClassifier':'MultiLayerPerceptron'}\n",
    "\n",
    "clf_scores=df.replace({'classifiers': clf_name_dict }, inplace = False)\n",
    "clf_scores.iloc[7,0]='SVCLinear'\n",
    "clf_scores.iloc[8,0]='SVCRBF'"
   ]
  },
  {
   "cell_type": "code",
   "execution_count": 287,
   "metadata": {},
   "outputs": [],
   "source": [
    "clf_scores.sort_values(by=['recall_scores'],inplace=True)"
   ]
  },
  {
   "cell_type": "code",
   "execution_count": 304,
   "metadata": {},
   "outputs": [
    {
     "data": {
      "image/png": "[encoded data removed]",
      "text/plain": [
       "<Figure size 576x360 with 1 Axes>"
      ]
     },
     "metadata": {},
     "output_type": "display_data"
    }
   ],
   "source": [
    "import seaborn as sns\n",
    "sns.set(style=\"whitegrid\", rc={'figure.figsize':(8,5)})\n",
    "\n",
    "mypalette=sns.diverging_palette(250, 385, s=75, n=11)\n",
    "\n",
    "ax = sns.barplot(x=\"recall_scores\", y=\"classifiers\", data=clf_scores, palette=mypalette)\n",
    "\n",
    "ax.set_title(\"Bar Chart of Classifiers Recall Scores on Test Data\");"
   ]
  },
  {
   "cell_type": "markdown",
   "metadata": {},
   "source": [
    "Observed from the plot above, 3 algorithm with the highest sensitivity/recall are SGDClassfier, Linear SVC classfier, and Neural-Network MultiLayerPerceptron. Gaussian NB has a 98% accuracy on the test data. Random Forest have a 67.9% recall score on the training set but is only 52.4% on the test set. This means that random forest is overfitting on the training set."
   ]
  }
 ],
 "metadata": {
  "kernelspec": {
   "display_name": "Python 3",
   "language": "python",
   "name": "python3"
  },
  "language_info": {
   "codemirror_mode": {
    "name": "ipython",
    "version": 3
   },
   "file_extension": ".py",
   "mimetype": "text/x-python",
   "name": "python",
   "nbconvert_exporter": "python",
   "pygments_lexer": "ipython3",
   "version": "3.6.8"
  }
 },
 "nbformat": 4,
 "nbformat_minor": 2
}
